{
 "cells": [
  {
   "cell_type": "code",
   "id": "initial_id",
   "metadata": {
    "collapsed": true
   },
   "source": [
    "space_mission = {\n",
    "    \"Название\": \"Artemis I\",\n",
    "    \"Год запуска\": 2022,\n",
    "    \"Страна\": \"США\",\n",
    "    \"Экипаж\": None,  # Беспилотная миссия\n",
    "    \"Продолжительность (дней)\": 25,\n",
    "    \"Оборудование\": [\"Орион\", \"Сервисный модуль\", \"Манекены с датчиками\"],\n",
    "    \"Результаты\": {\n",
    "        \"Дальность полёта (км)\": 432000,\n",
    "        \"Тестирование систем\": \"Успешно\",\n",
    "        \"Возвращение на Землю\": True,\n",
    "        \"Данные о радиации\": {\n",
    "            \"Общая доза (мЗв)\": 12.5,\n",
    "            \"Максимум на орбите Луны (мЗв)\": 8.2\n",
    "        }\n",
    "    }\n",
    "}\n",
    "print(type(space_mission))"
   ],
   "outputs": [
    {
     "name": "stdout",
     "output_type": "stream",
     "text": [
      "<class 'dict'>\n"
     ]
    }
   ],
   "execution_count": 1
  },
  {
   "metadata": {
    "ExecuteTime": {
     "end_time": "2025-04-23T07:15:41.082136Z",
     "start_time": "2025-04-23T07:15:41.074628Z"
    }
   },
   "cell_type": "code",
   "source": "print(space_mission['Результаты']['Данные о радиации']['Общая доза (мЗв)'])",
   "id": "b0fb9c6218a3f416",
   "outputs": [
    {
     "name": "stdout",
     "output_type": "stream",
     "text": [
      "12.5\n"
     ]
    }
   ],
   "execution_count": 3
  },
  {
   "metadata": {
    "ExecuteTime": {
     "end_time": "2025-04-23T07:23:26.775768Z",
     "start_time": "2025-04-23T07:23:26.759368Z"
    }
   },
   "cell_type": "code",
   "source": [
    "import json\n",
    "\n",
    "company_json = \"\"\"\n",
    "{\n",
    "    \"id\": 111,\n",
    "    \"isActive\": true,\n",
    "    \"createDateTime\": \"2024-04-05T17:30:00.713Z\",\n",
    "    \"lastChangedDateTime\": \"2024-04-05T17:30:00.713Z\",\n",
    "    \"name\": \"Барбершоп 'Цирюльникъ'\",\n",
    "    \"description\": \"Крутые стрижки для крутых шишек\"\n",
    "}\n",
    "\"\"\""
   ],
   "id": "24a88dd86eb53199",
   "outputs": [],
   "execution_count": 4
  },
  {
   "metadata": {
    "ExecuteTime": {
     "end_time": "2025-04-23T07:27:31.107774Z",
     "start_time": "2025-04-23T07:27:31.098229Z"
    }
   },
   "cell_type": "code",
   "source": [
    "def test_parse_json():\n",
    "    company = json.loads(company_json)\n",
    "    print(type(company))\n",
    "    assert company['id'] == 111, 'ошибка'\n",
    "\n",
    "\n",
    "test_parse_json()"
   ],
   "id": "889a209eb84b2a72",
   "outputs": [
    {
     "name": "stdout",
     "output_type": "stream",
     "text": [
      "<class 'dict'>\n"
     ]
    }
   ],
   "execution_count": 13
  },
  {
   "metadata": {
    "ExecuteTime": {
     "end_time": "2025-04-23T07:36:13.856622Z",
     "start_time": "2025-04-23T07:36:13.782411Z"
    }
   },
   "cell_type": "code",
   "source": [
    "company_list_json = \"\"\"\n",
    "[\n",
    "    {\n",
    "        \"id\": 111,\n",
    "        \"isActive\": true,\n",
    "        \"createDateTime\": \"2024-04-05T17:30:00.713Z\",\n",
    "        \"lastChangedDateTime\": \"2024-04-05T17:30:00.713Z\",\n",
    "        \"name\": \"Барбершоп 'Цирюльникъ'\",\n",
    "        \"description\": \"Крутые стрижки для крутых шишек\"\n",
    "    },\n",
    "    {\n",
    "        \"id\": 112,\n",
    "        \"isActive\": true,\n",
    "        \"createDateTime\": \"2024-04-05T17:30:00.713Z\",\n",
    "        \"lastChangedDateTime\": \"2024-04-05T17:30:00.713Z\",\n",
    "        \"name\": \"Кондитерская Профи-троли\",\n",
    "        \"description\": \"Сладко и точка\"\n",
    "    },\n",
    "    {\n",
    "        \"id\": 113,\n",
    "        \"isActive\": true,\n",
    "        \"createDateTime\": \"2024-04-05T17:30:00.713Z\",\n",
    "        \"lastChangedDateTime\": \"2024-04-05T17:30:00.713Z\",\n",
    "        \"name\": \"Муж на час\",\n",
    "        \"description\": \"Помощь в делах\"\n",
    "    }\n",
    "]\n",
    "\"\"\"\n",
    "\n",
    "\n",
    "def test_parse_array_json():\n",
    "    company_list = json.loads(company_list_json)  # Преобразуем JSON в список словарей\n",
    "    assert len(company_list) == 3  # Проверяем длину списка\n",
    "\n",
    "\n",
    "test_parse_array_json()"
   ],
   "id": "1a26ec85ca5ca24e",
   "outputs": [
    {
     "ename": "AssertionError",
     "evalue": "",
     "output_type": "error",
     "traceback": [
      "\u001B[31m---------------------------------------------------------------------------\u001B[39m",
      "\u001B[31mAssertionError\u001B[39m                            Traceback (most recent call last)",
      "\u001B[36mCell\u001B[39m\u001B[36m \u001B[39m\u001B[32mIn[17]\u001B[39m\u001B[32m, line 35\u001B[39m\n\u001B[32m     32\u001B[39m     company_list = json.loads(company_list_json)  \u001B[38;5;66;03m# Преобразуем JSON в список словарей\u001B[39;00m\n\u001B[32m     33\u001B[39m     \u001B[38;5;28;01massert\u001B[39;00m \u001B[38;5;28mlen\u001B[39m(company_list) == \u001B[32m4\u001B[39m  \u001B[38;5;66;03m# Проверяем длину списка\u001B[39;00m\n\u001B[32m---> \u001B[39m\u001B[32m35\u001B[39m \u001B[43mtest_parse_array_json\u001B[49m\u001B[43m(\u001B[49m\u001B[43m)\u001B[49m\n",
      "\u001B[36mCell\u001B[39m\u001B[36m \u001B[39m\u001B[32mIn[17]\u001B[39m\u001B[32m, line 33\u001B[39m, in \u001B[36mtest_parse_array_json\u001B[39m\u001B[34m()\u001B[39m\n\u001B[32m     31\u001B[39m \u001B[38;5;28;01mdef\u001B[39;00m\u001B[38;5;250m \u001B[39m\u001B[34mtest_parse_array_json\u001B[39m():\n\u001B[32m     32\u001B[39m     company_list = json.loads(company_list_json)  \u001B[38;5;66;03m# Преобразуем JSON в список словарей\u001B[39;00m\n\u001B[32m---> \u001B[39m\u001B[32m33\u001B[39m     \u001B[38;5;28;01massert\u001B[39;00m \u001B[38;5;28mlen\u001B[39m(company_list) == \u001B[32m4\u001B[39m\n",
      "\u001B[31mAssertionError\u001B[39m: "
     ]
    }
   ],
   "execution_count": 17
  },
  {
   "metadata": {
    "ExecuteTime": {
     "end_time": "2025-04-23T07:42:58.622073Z",
     "start_time": "2025-04-23T07:42:58.613219Z"
    }
   },
   "cell_type": "code",
   "source": [
    "import json\n",
    "\n",
    "invalid_json = \"\"\"{ \"id\": 111, \"name\": \"TestCompany\" }\"\"\"  # Неправильные одинарные кавычки\n",
    "\n",
    "try:\n",
    "    data = json.loads(invalid_json)\n",
    "    print(data)\n",
    "except json.JSONDecodeError as e:\n",
    "    print(f\"Ошибка при разборе JSON: {e}\")"
   ],
   "id": "4f6ad56e1614d0e9",
   "outputs": [
    {
     "name": "stdout",
     "output_type": "stream",
     "text": [
      "{'id': 111, 'name': 'TestCompany'}\n"
     ]
    }
   ],
   "execution_count": 21
  }
 ],
 "metadata": {
  "kernelspec": {
   "display_name": "Python 3",
   "language": "python",
   "name": "python3"
  },
  "language_info": {
   "codemirror_mode": {
    "name": "ipython",
    "version": 2
   },
   "file_extension": ".py",
   "mimetype": "text/x-python",
   "name": "python",
   "nbconvert_exporter": "python",
   "pygments_lexer": "ipython2",
   "version": "2.7.6"
  }
 },
 "nbformat": 4,
 "nbformat_minor": 5
}
